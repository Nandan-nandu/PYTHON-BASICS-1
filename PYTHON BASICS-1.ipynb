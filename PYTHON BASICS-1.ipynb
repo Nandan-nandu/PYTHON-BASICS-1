{
 "cells": [
  {
   "cell_type": "markdown",
   "id": "94c2decc",
   "metadata": {},
   "source": [
    "# PYTHON BASICS-1"
   ]
  },
  {
   "cell_type": "markdown",
   "id": "c493a414",
   "metadata": {},
   "source": [
    "python basics"
   ]
  },
  {
   "cell_type": "code",
   "execution_count": 1,
   "id": "acc072c9",
   "metadata": {},
   "outputs": [
    {
     "data": {
      "text/plain": [
       "2"
      ]
     },
     "execution_count": 1,
     "metadata": {},
     "output_type": "execute_result"
    }
   ],
   "source": [
    "10//4\n",
    "#cut the decimal part."
   ]
  },
  {
   "cell_type": "markdown",
   "id": "d07d75f5",
   "metadata": {},
   "source": [
    "power function"
   ]
  },
  {
   "cell_type": "code",
   "execution_count": 2,
   "id": "fb5d92bb",
   "metadata": {},
   "outputs": [
    {
     "data": {
      "text/plain": [
       "4"
      ]
     },
     "execution_count": 2,
     "metadata": {},
     "output_type": "execute_result"
    }
   ],
   "source": [
    "2**2"
   ]
  },
  {
   "cell_type": "code",
   "execution_count": 3,
   "id": "9397d627",
   "metadata": {},
   "outputs": [
    {
     "data": {
      "text/plain": [
       "8"
      ]
     },
     "execution_count": 3,
     "metadata": {},
     "output_type": "execute_result"
    }
   ],
   "source": [
    "2**3"
   ]
  },
  {
   "cell_type": "code",
   "execution_count": 4,
   "id": "02c57e13",
   "metadata": {},
   "outputs": [
    {
     "data": {
      "text/plain": [
       "1024"
      ]
     },
     "execution_count": 4,
     "metadata": {},
     "output_type": "execute_result"
    }
   ],
   "source": [
    "4**5"
   ]
  },
  {
   "cell_type": "code",
   "execution_count": 5,
   "id": "dcad353d",
   "metadata": {},
   "outputs": [
    {
     "data": {
      "text/plain": [
       "256"
      ]
     },
     "execution_count": 5,
     "metadata": {},
     "output_type": "execute_result"
    }
   ],
   "source": [
    "4**4"
   ]
  },
  {
   "cell_type": "code",
   "execution_count": 6,
   "id": "2b49c367",
   "metadata": {},
   "outputs": [
    {
     "data": {
      "text/plain": [
       "27"
      ]
     },
     "execution_count": 6,
     "metadata": {},
     "output_type": "execute_result"
    }
   ],
   "source": [
    "3**3"
   ]
  },
  {
   "cell_type": "code",
   "execution_count": 7,
   "id": "4b955ca3",
   "metadata": {},
   "outputs": [
    {
     "data": {
      "text/plain": [
       "625"
      ]
     },
     "execution_count": 7,
     "metadata": {},
     "output_type": "execute_result"
    }
   ],
   "source": [
    "5**4"
   ]
  },
  {
   "cell_type": "markdown",
   "id": "60bc3372",
   "metadata": {},
   "source": [
    "area of the rectangle"
   ]
  },
  {
   "cell_type": "code",
   "execution_count": 12,
   "id": "dec6d4c1",
   "metadata": {},
   "outputs": [
    {
     "name": "stdout",
     "output_type": "stream",
     "text": [
      "enter the length of the rectangle 6\n",
      "enter the breadth of the rectangle 5\n",
      "the area of tha rectangle is = 30\n"
     ]
    }
   ],
   "source": [
    "length = int(input(\"enter the length of the rectangle \"))\n",
    "breadth = int(input(\"enter the breadth of the rectangle \"))\n",
    "area = length*breadth\n",
    "print(\"the area of tha rectangle is =\",area)"
   ]
  },
  {
   "cell_type": "markdown",
   "id": "4afaab49",
   "metadata": {},
   "source": [
    "perimeter of rectangle"
   ]
  },
  {
   "cell_type": "code",
   "execution_count": 1,
   "id": "63ddb40d",
   "metadata": {},
   "outputs": [
    {
     "name": "stdout",
     "output_type": "stream",
     "text": [
      "Enter the length of the tectangle5\n",
      "Breadth of rectangle3\n",
      "16\n"
     ]
    }
   ],
   "source": [
    "length = int(input(\"Enter the length of the tectangle\"))\n",
    "breadth = int(input(\"Breadth of rectangle\"))\n",
    "perimeter = 2*(length+breadth)\n",
    "print (perimeter)\n"
   ]
  },
  {
   "cell_type": "markdown",
   "id": "40964caa",
   "metadata": {},
   "source": [
    "## slicing"
   ]
  },
  {
   "cell_type": "code",
   "execution_count": 1,
   "id": "c98058aa",
   "metadata": {
    "scrolled": true
   },
   "outputs": [
    {
     "data": {
      "text/plain": [
       "['kiwi', 'papaya', 'apple', 'orange', 'banana']"
      ]
     },
     "execution_count": 1,
     "metadata": {},
     "output_type": "execute_result"
    }
   ],
   "source": [
    "Fr = [\"kiwi\",\"papaya\",\"apple\",\"orange\",\"banana\"]\n",
    "Fr"
   ]
  },
  {
   "cell_type": "code",
   "execution_count": 2,
   "id": "99e87bc8",
   "metadata": {},
   "outputs": [
    {
     "data": {
      "text/plain": [
       "['orange']"
      ]
     },
     "execution_count": 2,
     "metadata": {},
     "output_type": "execute_result"
    }
   ],
   "source": [
    "Fr[-2:-1]\n"
   ]
  },
  {
   "cell_type": "code",
   "execution_count": 3,
   "id": "78fa2bf4",
   "metadata": {},
   "outputs": [
    {
     "data": {
      "text/plain": [
       "['papaya', 'apple']"
      ]
     },
     "execution_count": 3,
     "metadata": {},
     "output_type": "execute_result"
    }
   ],
   "source": [
    "Fr[-4:-2]"
   ]
  },
  {
   "cell_type": "code",
   "execution_count": 4,
   "id": "0daea705",
   "metadata": {},
   "outputs": [
    {
     "data": {
      "text/plain": [
       "['papaya', 'apple', 'orange', 'banana']"
      ]
     },
     "execution_count": 4,
     "metadata": {},
     "output_type": "execute_result"
    }
   ],
   "source": [
    "Fr[-4:]"
   ]
  },
  {
   "cell_type": "code",
   "execution_count": 5,
   "id": "ed52c7b0",
   "metadata": {},
   "outputs": [],
   "source": [
    "Fr.insert(2,\"nandan\")"
   ]
  },
  {
   "cell_type": "code",
   "execution_count": null,
   "id": "ef904d63",
   "metadata": {},
   "outputs": [],
   "source": [
    "Fr"
   ]
  },
  {
   "cell_type": "code",
   "execution_count": 6,
   "id": "db0b9cf6",
   "metadata": {},
   "outputs": [
    {
     "name": "stdout",
     "output_type": "stream",
     "text": [
      "['kiwi', 'papaya', 'nandan', 'apple', 'orange', 'banana']\n"
     ]
    }
   ],
   "source": [
    "print (Fr)"
   ]
  },
  {
   "cell_type": "code",
   "execution_count": 7,
   "id": "e77ae350",
   "metadata": {},
   "outputs": [],
   "source": [
    "Fr.remove(\"nandan\")"
   ]
  },
  {
   "cell_type": "code",
   "execution_count": null,
   "id": "c861cf22",
   "metadata": {},
   "outputs": [],
   "source": [
    "Fr"
   ]
  },
  {
   "cell_type": "code",
   "execution_count": 8,
   "id": "2f56a826",
   "metadata": {},
   "outputs": [
    {
     "name": "stdout",
     "output_type": "stream",
     "text": [
      "['kiwi', 'papaya', 'apple', 'orange', 'banana']\n"
     ]
    }
   ],
   "source": [
    "print (Fr)"
   ]
  },
  {
   "cell_type": "markdown",
   "id": "81368572",
   "metadata": {},
   "source": [
    "# PYTHON DATA TYPES"
   ]
  },
  {
   "cell_type": "markdown",
   "id": "6712225b",
   "metadata": {},
   "source": [
    "### ▶️ TUPLES"
   ]
  },
  {
   "cell_type": "markdown",
   "id": "686695d3",
   "metadata": {},
   "source": [
    "### ▶️ DICTIONARY"
   ]
  },
  {
   "cell_type": "markdown",
   "id": "21fb382c",
   "metadata": {},
   "source": [
    "### ▶️SETS"
   ]
  },
  {
   "cell_type": "markdown",
   "id": "b554eff2",
   "metadata": {},
   "source": [
    "## TUPLE🔽"
   ]
  },
  {
   "cell_type": "markdown",
   "id": "1edad9b0",
   "metadata": {},
   "source": [
    "TUPLES are immutable means they cannot be alterd or changed."
   ]
  },
  {
   "cell_type": "code",
   "execution_count": 2,
   "id": "5d5ed5d4",
   "metadata": {},
   "outputs": [],
   "source": [
    "tuple1 = (\"A\",\"B\",\"C\",\"D\")\n"
   ]
  },
  {
   "cell_type": "code",
   "execution_count": 3,
   "id": "61adf9d1",
   "metadata": {},
   "outputs": [
    {
     "data": {
      "text/plain": [
       "'B'"
      ]
     },
     "execution_count": 3,
     "metadata": {},
     "output_type": "execute_result"
    }
   ],
   "source": [
    "tuple1[1]#accesed element using index value."
   ]
  },
  {
   "cell_type": "code",
   "execution_count": 4,
   "id": "c85f45c4",
   "metadata": {},
   "outputs": [
    {
     "name": "stdout",
     "output_type": "stream",
     "text": [
      "('A', 'B', 'C', 'D')\n"
     ]
    }
   ],
   "source": [
    "print(tuple1)"
   ]
  },
  {
   "cell_type": "code",
   "execution_count": 6,
   "id": "a9dbd2b0",
   "metadata": {},
   "outputs": [
    {
     "name": "stdout",
     "output_type": "stream",
     "text": [
      "(1, 2, 3, 4, 5, 6, 7, 8)\n"
     ]
    }
   ],
   "source": [
    "#we can add two tuples.\n",
    "tuple2 = (1,2,3,4)\n",
    "tuple3 = (5,6,7,8)\n",
    "tuple4 = tuple2+tuple3\n",
    "print (tuple4)"
   ]
  },
  {
   "cell_type": "code",
   "execution_count": 7,
   "id": "dc1bd32f",
   "metadata": {},
   "outputs": [
    {
     "data": {
      "text/plain": [
       "6"
      ]
     },
     "execution_count": 7,
     "metadata": {},
     "output_type": "execute_result"
    }
   ],
   "source": [
    "tuple4[5]\n",
    "# accessing element using index value."
   ]
  },
  {
   "cell_type": "code",
   "execution_count": 8,
   "id": "01a6b76a",
   "metadata": {},
   "outputs": [
    {
     "ename": "TypeError",
     "evalue": "'type' object does not support item assignment",
     "output_type": "error",
     "traceback": [
      "\u001b[0;31m------------------------------------------------------------------------\u001b[0m",
      "\u001b[0;31mTypeError\u001b[0m                              Traceback (most recent call last)",
      "\u001b[0;32m<ipython-input-8-20927b050ca0>\u001b[0m in \u001b[0;36m<module>\u001b[0;34m\u001b[0m\n\u001b[1;32m      1\u001b[0m \u001b[0;31m# we cannot change the value of tuple.\u001b[0m\u001b[0;34m\u001b[0m\u001b[0;34m\u001b[0m\u001b[0;34m\u001b[0m\u001b[0m\n\u001b[1;32m      2\u001b[0m \u001b[0;31m#it shows the error.\u001b[0m\u001b[0;34m\u001b[0m\u001b[0;34m\u001b[0m\u001b[0;34m\u001b[0m\u001b[0m\n\u001b[0;32m----> 3\u001b[0;31m \u001b[0mtuple\u001b[0m\u001b[0;34m[\u001b[0m\u001b[0;36m3\u001b[0m\u001b[0;34m]\u001b[0m\u001b[0;34m=\u001b[0m\u001b[0;36m88\u001b[0m\u001b[0;34m\u001b[0m\u001b[0;34m\u001b[0m\u001b[0m\n\u001b[0m",
      "\u001b[0;31mTypeError\u001b[0m: 'type' object does not support item assignment"
     ]
    }
   ],
   "source": [
    "# we cannot change the value of tuple.\n",
    "# it shows the error.\n",
    "tuple[3]=88"
   ]
  },
  {
   "cell_type": "markdown",
   "id": "7141a4ee",
   "metadata": {},
   "source": [
    "** TUPLE values cannot be changed after creation."
   ]
  },
  {
   "cell_type": "markdown",
   "id": "788bb6fa",
   "metadata": {},
   "source": [
    "## DICTIONARY🔽"
   ]
  },
  {
   "cell_type": "markdown",
   "id": "ad46b1b4",
   "metadata": {},
   "source": [
    "It contains key and values"
   ]
  },
  {
   "cell_type": "code",
   "execution_count": 1,
   "id": "fef491d9",
   "metadata": {},
   "outputs": [],
   "source": [
    "dict1 = {'Name':'nandan','age':7,'class':'first'}"
   ]
  },
  {
   "cell_type": "code",
   "execution_count": null,
   "id": "d8e53648",
   "metadata": {},
   "outputs": [],
   "source": [
    "dict1"
   ]
  },
  {
   "cell_type": "code",
   "execution_count": 2,
   "id": "3d5dcb41",
   "metadata": {},
   "outputs": [
    {
     "name": "stdout",
     "output_type": "stream",
     "text": [
      "{'Name': 'nandan', 'age': 7, 'class': 'first'}\n"
     ]
    }
   ],
   "source": [
    "print (dict1)"
   ]
  },
  {
   "cell_type": "code",
   "execution_count": 3,
   "id": "d108220b",
   "metadata": {},
   "outputs": [
    {
     "data": {
      "text/plain": [
       "dict_values(['nandan', 7, 'first'])"
      ]
     },
     "execution_count": 3,
     "metadata": {},
     "output_type": "execute_result"
    }
   ],
   "source": [
    "dict1.values()"
   ]
  },
  {
   "cell_type": "code",
   "execution_count": 4,
   "id": "52b605f2",
   "metadata": {},
   "outputs": [
    {
     "data": {
      "text/plain": [
       "dict_keys(['Name', 'age', 'class'])"
      ]
     },
     "execution_count": 4,
     "metadata": {},
     "output_type": "execute_result"
    }
   ],
   "source": [
    "dict1.keys()"
   ]
  },
  {
   "cell_type": "code",
   "execution_count": 5,
   "id": "da6a2480",
   "metadata": {},
   "outputs": [
    {
     "data": {
      "text/plain": [
       "'nandan'"
      ]
     },
     "execution_count": 5,
     "metadata": {},
     "output_type": "execute_result"
    }
   ],
   "source": [
    "dict1['Name']"
   ]
  },
  {
   "cell_type": "code",
   "execution_count": 6,
   "id": "a7d28d10",
   "metadata": {},
   "outputs": [
    {
     "data": {
      "text/plain": [
       "7"
      ]
     },
     "execution_count": 6,
     "metadata": {},
     "output_type": "execute_result"
    }
   ],
   "source": [
    "dict1['age']"
   ]
  },
  {
   "cell_type": "code",
   "execution_count": 7,
   "id": "e5b2c021",
   "metadata": {},
   "outputs": [
    {
     "data": {
      "text/plain": [
       "'first'"
      ]
     },
     "execution_count": 7,
     "metadata": {},
     "output_type": "execute_result"
    }
   ],
   "source": [
    "dict1['class']"
   ]
  },
  {
   "cell_type": "code",
   "execution_count": 18,
   "id": "bae7f664",
   "metadata": {},
   "outputs": [
    {
     "data": {
      "text/plain": [
       "'nandan'"
      ]
     },
     "execution_count": 18,
     "metadata": {},
     "output_type": "execute_result"
    }
   ],
   "source": [
    "dict1['Name']"
   ]
  },
  {
   "cell_type": "code",
   "execution_count": 20,
   "id": "c6c49a53",
   "metadata": {},
   "outputs": [
    {
     "data": {
      "text/plain": [
       "3"
      ]
     },
     "execution_count": 20,
     "metadata": {},
     "output_type": "execute_result"
    }
   ],
   "source": [
    "len(dict1)"
   ]
  },
  {
   "cell_type": "code",
   "execution_count": null,
   "id": "d4c9a9b7",
   "metadata": {},
   "outputs": [],
   "source": []
  },
  {
   "cell_type": "code",
   "execution_count": 21,
   "id": "62819d42",
   "metadata": {},
   "outputs": [
    {
     "data": {
      "text/plain": [
       "dict_items([('Name', 'nandan'), ('age', 7), ('class', 'first')])"
      ]
     },
     "execution_count": 21,
     "metadata": {},
     "output_type": "execute_result"
    }
   ],
   "source": [
    "dict1.items()"
   ]
  },
  {
   "cell_type": "code",
   "execution_count": 22,
   "id": "0bcd932f",
   "metadata": {},
   "outputs": [],
   "source": [
    "#We can add a new value pair.\n",
    "dict1.update({'Fee':2000})"
   ]
  },
  {
   "cell_type": "code",
   "execution_count": 23,
   "id": "9da5a6a9",
   "metadata": {},
   "outputs": [
    {
     "name": "stdout",
     "output_type": "stream",
     "text": [
      "{'Name': 'nandan', 'age': 7, 'class': 'first', 'Fee': 2000}\n"
     ]
    }
   ],
   "source": [
    "print (dict1)"
   ]
  },
  {
   "cell_type": "code",
   "execution_count": 24,
   "id": "88ace0a9",
   "metadata": {},
   "outputs": [],
   "source": [
    "#we can assign a new value to an existing value.\n",
    "dict1['Fee']=9999"
   ]
  },
  {
   "cell_type": "code",
   "execution_count": 25,
   "id": "539808cd",
   "metadata": {},
   "outputs": [
    {
     "name": "stdout",
     "output_type": "stream",
     "text": [
      "{'Name': 'nandan', 'age': 7, 'class': 'first', 'Fee': 9999}\n"
     ]
    }
   ],
   "source": [
    "print (dict1)"
   ]
  },
  {
   "cell_type": "markdown",
   "id": "c16a45b0",
   "metadata": {},
   "source": [
    "## SETS🔽"
   ]
  },
  {
   "cell_type": "markdown",
   "id": "d3271fa1",
   "metadata": {},
   "source": [
    "SETS does not have indexing."
   ]
  },
  {
   "cell_type": "code",
   "execution_count": 26,
   "id": "7441d724",
   "metadata": {},
   "outputs": [],
   "source": [
    "x ={27,37,47,57}\n",
    "x"
   ]
  },
  {
   "cell_type": "code",
   "execution_count": 27,
   "id": "2c1580d7",
   "metadata": {},
   "outputs": [
    {
     "name": "stdout",
     "output_type": "stream",
     "text": [
      "{57, 27, 37, 47}\n"
     ]
    }
   ],
   "source": [
    "print (x)"
   ]
  },
  {
   "cell_type": "code",
   "execution_count": 28,
   "id": "56939179",
   "metadata": {},
   "outputs": [],
   "source": [
    "# SETS have uniqeness.same value cant be repeated.\n",
    "y={27,37,47,57,27}"
   ]
  },
  {
   "cell_type": "code",
   "execution_count": 29,
   "id": "09d1522c",
   "metadata": {},
   "outputs": [
    {
     "name": "stdout",
     "output_type": "stream",
     "text": [
      "{57, 27, 37, 47}\n"
     ]
    }
   ],
   "source": [
    "print (y)"
   ]
  },
  {
   "cell_type": "code",
   "execution_count": 30,
   "id": "1c3293ac",
   "metadata": {},
   "outputs": [
    {
     "ename": "TypeError",
     "evalue": "'set' object is not subscriptable",
     "output_type": "error",
     "traceback": [
      "\u001b[0;31m------------------------------------------------------------------------\u001b[0m",
      "\u001b[0;31mTypeError\u001b[0m                              Traceback (most recent call last)",
      "\u001b[0;32m<ipython-input-30-4bccf293edd4>\u001b[0m in \u001b[0;36m<module>\u001b[0;34m\u001b[0m\n\u001b[1;32m      1\u001b[0m \u001b[0;31m# here we cannot access value through indexing..\u001b[0m\u001b[0;34m\u001b[0m\u001b[0;34m\u001b[0m\u001b[0;34m\u001b[0m\u001b[0m\n\u001b[0;32m----> 2\u001b[0;31m \u001b[0my\u001b[0m\u001b[0;34m[\u001b[0m\u001b[0;36m1\u001b[0m\u001b[0;34m]\u001b[0m\u001b[0;34m\u001b[0m\u001b[0;34m\u001b[0m\u001b[0m\n\u001b[0m",
      "\u001b[0;31mTypeError\u001b[0m: 'set' object is not subscriptable"
     ]
    }
   ],
   "source": [
    "# here we cannot access value through indexing..\n",
    "y[1]\n",
    "#it shows error to us."
   ]
  },
  {
   "cell_type": "code",
   "execution_count": 31,
   "id": "3d522e62",
   "metadata": {},
   "outputs": [
    {
     "data": {
      "text/plain": [
       "57"
      ]
     },
     "execution_count": 31,
     "metadata": {},
     "output_type": "execute_result"
    }
   ],
   "source": [
    " y.pop()"
   ]
  },
  {
   "cell_type": "code",
   "execution_count": 32,
   "id": "462e48ca",
   "metadata": {},
   "outputs": [
    {
     "data": {
      "text/plain": [
       "27"
      ]
     },
     "execution_count": 32,
     "metadata": {},
     "output_type": "execute_result"
    }
   ],
   "source": [
    "y.pop()\n",
    "# it does not have indexing."
   ]
  },
  {
   "cell_type": "code",
   "execution_count": 33,
   "id": "e8a5575f",
   "metadata": {},
   "outputs": [
    {
     "name": "stdout",
     "output_type": "stream",
     "text": [
      "{37, 47}\n"
     ]
    }
   ],
   "source": [
    "print (y)"
   ]
  },
  {
   "cell_type": "code",
   "execution_count": null,
   "id": "8e1c48ed",
   "metadata": {},
   "outputs": [],
   "source": []
  }
 ],
 "metadata": {
  "kernelspec": {
   "display_name": "Python 3",
   "language": "python",
   "name": "python3"
  },
  "language_info": {
   "codemirror_mode": {
    "name": "ipython",
    "version": 3
   },
   "file_extension": ".py",
   "mimetype": "text/x-python",
   "name": "python",
   "nbconvert_exporter": "python",
   "pygments_lexer": "ipython3",
   "version": "3.8.3"
  }
 },
 "nbformat": 4,
 "nbformat_minor": 5
}
